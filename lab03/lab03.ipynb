{
 "cells": [
  {
   "cell_type": "markdown",
   "metadata": {},
   "source": [
    "# Regresión Logística\n",
    "### Diego Quan"
   ]
  },
  {
   "cell_type": "code",
   "execution_count": 219,
   "metadata": {},
   "outputs": [],
   "source": [
    "import pandas as pd\n",
    "import numpy as np\n",
    "from matplotlib import pyplot as plt\n",
    "from sklearn import datasets\n",
    "from sklearn.model_selection import train_test_split\n",
    "from sklearn.preprocessing import StandardScaler"
   ]
  },
  {
   "cell_type": "code",
   "execution_count": 246,
   "metadata": {},
   "outputs": [],
   "source": [
    "#importación de los datos\n",
    "data = pd.read_csv('heart.csv')"
   ]
  },
  {
   "cell_type": "markdown",
   "metadata": {},
   "source": [
    "Se eligieron las variables **age, trestbps, chol, thalach, oldpeak, slope y thal** para realizar esta regresión logística."
   ]
  },
  {
   "cell_type": "code",
   "execution_count": 247,
   "metadata": {},
   "outputs": [],
   "source": [
    "'''Se separan los features de los labels, se estandariza la data a través de la librería de StandardScaler de sklearn\n",
    "y finalmente se separa la data en data de entrenamiento y data de testing'''\n",
    "X = data[['age', 'trestbps', 'chol', 'thalach', 'oldpeak', 'slope', 'thal']]\n",
    "Y = data['target']\n",
    "scaler = StandardScaler()\n",
    "X = scaler.fit_transform(X)\n",
    "\n",
    "X_train, X_test, Y_train, Y_test = train_test_split(X, Y, test_size = 0.33, random_state = 100)"
   ]
  },
  {
   "cell_type": "code",
   "execution_count": 221,
   "metadata": {},
   "outputs": [],
   "source": [
    "class LogisticRegression:\n",
    "    '''Constructor de la regresión logística'''\n",
    "\n",
    "    def __init__(self, learning_rate=0.001, n_iters=1000):\n",
    "        '''Inicialización de los parametros\n",
    "        '''\n",
    "        self.lr = learning_rate\n",
    "        self.n_iters = n_iters\n",
    "        self.weights = None\n",
    "        self.bias = None\n",
    "        \n",
    "    def cost_function(self, x, y, theta):\n",
    "        '''Función de costo de la regresión logística\n",
    "        x: features del dataset\n",
    "        y: labels del dataset\n",
    "        theta: los pesos de la hipotésis'''\n",
    "        m = len(y)\n",
    "        return (-y * np.log(theta) - (1 - y) * np.log(1 - theta)) / m\n",
    "\n",
    "    def fit(self, X, y):\n",
    "        '''Proceso e iteraciones del descenso al gradiente. En esta función es donde se llevan a cabo la mayoría de operaciones\n",
    "        X: features del dataset\n",
    "        y: labels del dataset'''\n",
    "        n_samples, n_features = X.shape\n",
    "\n",
    "        # inicialización de parametros\n",
    "        self.weights = np.zeros(n_features)\n",
    "        self.bias = 0\n",
    "        self.cost_history = []\n",
    "\n",
    "        # descenso al gradiente\n",
    "        for _ in range(self.n_iters):\n",
    "            linear_model = np.dot(X, self.weights) + self.bias\n",
    "            # applicar la función de sigmoide\n",
    "            y_predicted = self._sigmoid(linear_model)\n",
    "\n",
    "            # actualizar parametros\n",
    "            dw = (1 / n_samples) * np.dot(X.T, (y_predicted - y))\n",
    "            db = (1 / n_samples) * np.sum(y_predicted - y)\n",
    "            #actualizar el historial de costo\n",
    "            cost = self.cost_function(X, y, y_predicted)\n",
    "            \n",
    "            self.cost_history.append(cost.iloc[-1])\n",
    "            self.weights -= self.lr * dw\n",
    "            self.bias -= self.lr * db\n",
    "\n",
    "    def predict(self, X):\n",
    "        '''Se realizan la predicción por cada una de las observaciones\n",
    "        X: features del dataset'''\n",
    "        linear_model = np.dot(X, self.weights) + self.bias\n",
    "        y_predicted = self._sigmoid(linear_model)\n",
    "        y_predicted_cls = [1 if i > 0.5 else 0 for i in y_predicted]\n",
    "        return np.array(y_predicted_cls)\n",
    "\n",
    "    def _sigmoid(self, x):\n",
    "        return 1 / (1 + np.exp(-x))"
   ]
  },
  {
   "cell_type": "code",
   "execution_count": 211,
   "metadata": {},
   "outputs": [],
   "source": [
    "def accuracy(y_true, y_pred):\n",
    "    '''Obtener la precisión del dataset\n",
    "    y_true: los labels del dataset a predecir\n",
    "    y_pred: las predicciones obtenidas a través del modelo'''\n",
    "    return np.sum(y_true == y_pred) / len(y_true)"
   ]
  },
  {
   "cell_type": "markdown",
   "metadata": {},
   "source": [
    "### Parametros selectos\n",
    "Los parametros elegidos son learning rate de 0.003 y número de iteraciones de 3250, debido a que el costo comienza a escalar de nuevo después de cierta cantidad de iteraciones"
   ]
  },
  {
   "cell_type": "code",
   "execution_count": 240,
   "metadata": {},
   "outputs": [],
   "source": [
    "#inicialización del modelo\n",
    "regressor = LogisticRegression(learning_rate = 0.003, n_iters = 3250)\n",
    "#ajustar la data al modelo\n",
    "regressor.fit(X_train, Y_train)\n",
    "#crear las predicciones del modelo\n",
    "predictions = regressor.predict(X_test)"
   ]
  },
  {
   "cell_type": "markdown",
   "metadata": {},
   "source": [
    "La precisión final del módelo fue de 76%, que en este caso es una buena precisión."
   ]
  },
  {
   "cell_type": "code",
   "execution_count": 241,
   "metadata": {},
   "outputs": [
    {
     "name": "stdout",
     "output_type": "stream",
     "text": [
      "LR accuracy:  0.76\n"
     ]
    }
   ],
   "source": [
    "#la precisión del modelo\n",
    "print(\"LR accuracy: \", accuracy(Y_test, predictions))"
   ]
  },
  {
   "cell_type": "code",
   "execution_count": 245,
   "metadata": {},
   "outputs": [
    {
     "data": {
      "text/plain": [
       "Text(0, 0.5, 'Training Cost')"
      ]
     },
     "execution_count": 245,
     "metadata": {},
     "output_type": "execute_result"
    },
    {
     "data": {
      "image/png": "[encoded data removed]",
      "text/plain": [
       "<Figure size 432x288 with 1 Axes>"
      ]
     },
     "metadata": {
      "needs_background": "light"
     },
     "output_type": "display_data"
    }
   ],
   "source": [
    "plt.plot(regressor.cost_history)\n",
    "plt.xlabel('Iterations')\n",
    "plt.ylabel('Training Cost')"
   ]
  },
  {
   "cell_type": "code",
   "execution_count": null,
   "metadata": {},
   "outputs": [],
   "source": []
  }
 ],
 "metadata": {
  "kernelspec": {
   "display_name": "Python 3",
   "language": "python",
   "name": "python3"
  },
  "language_info": {
   "codemirror_mode": {
    "name": "ipython",
    "version": 3
   },
   "file_extension": ".py",
   "mimetype": "text/x-python",
   "name": "python",
   "nbconvert_exporter": "python",
   "pygments_lexer": "ipython3",
   "version": "3.7.6"
  }
 },
 "nbformat": 4,
 "nbformat_minor": 4
}
