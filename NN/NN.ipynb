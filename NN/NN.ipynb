{
 "cells": [
  {
   "cell_type": "code",
   "execution_count": 85,
   "metadata": {},
   "outputs": [],
   "source": [
    "import numpy as np\n",
    "import pandas as pd\n",
    "import h5py\n",
    "from sklearn.metrics import classification_report, confusion_matrix"
   ]
  },
  {
   "cell_type": "code",
   "execution_count": 70,
   "metadata": {},
   "outputs": [],
   "source": [
    "#Se importan los datasets, estos fueron descargados de Kaggle\n",
    "mnist = pd.read_csv('fashionmnist/fashion-mnist_train.csv')\n",
    "mnist_test = pd.read_csv('fashionmnist/fashion-mnist_test.csv')"
   ]
  },
  {
   "cell_type": "code",
   "execution_count": 60,
   "metadata": {},
   "outputs": [],
   "source": [
    "#Se asignan las variables que contienen los datos de las observaciones\n",
    "x_train = mnist.drop('label', axis=1)\n",
    "x_test = mnist_test.drop('label', axis=1)"
   ]
  },
  {
   "cell_type": "code",
   "execution_count": 72,
   "metadata": {},
   "outputs": [],
   "source": [
    "#Se asignan las variables de las labels\n",
    "y_train = np.int32(mnist['label'])\n",
    "y_test = mnist_test['label']"
   ]
  },
  {
   "cell_type": "code",
   "execution_count": 67,
   "metadata": {},
   "outputs": [],
   "source": [
    "#Se normalizan los datos de las observaciones\n",
    "x_train = np.float32(x_train) / 255\n",
    "x_test = np.float32(x_test) / 255"
   ]
  },
  {
   "cell_type": "code",
   "execution_count": 74,
   "metadata": {},
   "outputs": [],
   "source": [
    "#Se realiza one-hot-encoding para tener varios arreglos con los labels\n",
    "labels = 10\n",
    "examples = y_train.shape[0]\n",
    "\n",
    "y = y_train.reshape(1, examples)\n",
    "\n",
    "y_new = np.eye(labels)[y.astype('int32')]\n",
    "y_new = y_new.T.reshape(labels,examples)"
   ]
  },
  {
   "cell_type": "code",
   "execution_count": 77,
   "metadata": {},
   "outputs": [],
   "source": [
    "#Se divide en test y train, 45000 obervaciones de entrenamiento, 15000 de testing\n",
    "m = 45000\n",
    "m_test = x_train.shape[0] - m\n",
    "\n",
    "x, x_test = x_train[:m].T, x_train[m:].T\n",
    "y, y_test = y_new[:, :m], y_new[:, m:]"
   ]
  },
  {
   "cell_type": "code",
   "execution_count": 79,
   "metadata": {},
   "outputs": [],
   "source": [
    "#Sigmoide\n",
    "def sigmoid(z):\n",
    "    s = 1 / (1 + np.exp(-z))\n",
    "    return s\n",
    "\n",
    "#Costo\n",
    "def compute_multiclass_loss(Y, Y_hat):\n",
    "\n",
    "    L_sum = np.sum(np.multiply(Y, np.log(Y_hat)))\n",
    "    m = Y.shape[1]\n",
    "    L = -(1/m) * L_sum\n",
    "\n",
    "    return L"
   ]
  },
  {
   "cell_type": "code",
   "execution_count": 80,
   "metadata": {},
   "outputs": [
    {
     "name": "stdout",
     "output_type": "stream",
     "text": [
      "Epoch 0 cost:  6.808279258142297\n",
      "Epoch 100 cost:  2.317844216531321\n",
      "Epoch 200 cost:  2.278810130795445\n",
      "Epoch 300 cost:  2.247532203618345\n",
      "Epoch 400 cost:  2.2228176320278448\n",
      "Epoch 500 cost:  2.1977953151483036\n",
      "Epoch 600 cost:  2.1770374234475502\n",
      "Epoch 700 cost:  2.1472515848373437\n",
      "Epoch 800 cost:  2.1292521913430917\n",
      "Epoch 900 cost:  2.0926383756826286\n",
      "Epoch 1000 cost:  2.059953208871929\n",
      "Epoch 1100 cost:  2.0280553232187386\n",
      "Epoch 1200 cost:  1.9959603496394127\n",
      "Epoch 1300 cost:  1.963857022364321\n",
      "Epoch 1400 cost:  1.932292801243872\n",
      "Epoch 1500 cost:  1.9025229925007943\n",
      "Epoch 1600 cost:  2.0123629897193704\n",
      "Epoch 1700 cost:  1.8771715201075299\n",
      "Epoch 1800 cost:  1.8183742183886673\n",
      "Epoch 1900 cost:  1.8818745782949422\n",
      "Final cost: 1.784041493404962\n"
     ]
    }
   ],
   "source": [
    "\"\"\"\n",
    "Proceso de la red neural\n",
    "\"\"\"\n",
    "n_x = x.shape[0]\n",
    "n_h = 64\n",
    "learning_rate = 1\n",
    "\n",
    "#INICIALIZACION DE PESOS Y BIAS\n",
    "W1 = np.random.randn(n_h, n_x)\n",
    "b1 = np.zeros((n_h, 1))\n",
    "W2 = np.random.randn(labels, n_h)\n",
    "b2 = np.zeros((labels, 1))\n",
    "\n",
    "X = x\n",
    "Y = y\n",
    "\n",
    "for i in range(2000):\n",
    "#FORWARD PROPAGATION STARTS\n",
    "    Z1 = np.matmul(W1,X) + b1\n",
    "    A1 = sigmoid(Z1)\n",
    "    Z2 = np.matmul(W2,A1) + b2\n",
    "    A2 = np.exp(Z2) / np.sum(np.exp(Z2), axis=0)\n",
    "\n",
    "    cost = compute_multiclass_loss(Y, A2)\n",
    "\n",
    "    dZ2 = A2-Y\n",
    "    dW2 = (1./m) * np.matmul(dZ2, A1.T)\n",
    "    db2 = (1./m) * np.sum(dZ2, axis=1, keepdims=True)\n",
    "    \n",
    "#BACKPROPAGATION STARTS\n",
    "    dA1 = np.matmul(W2.T, dZ2)\n",
    "    dZ1 = dA1 * sigmoid(Z1) * (1 - sigmoid(Z1))\n",
    "    dW1 = (1./m) * np.matmul(dZ1, X.T)\n",
    "    db1 = (1./m) * np.sum(dZ1, axis=1, keepdims=True)\n",
    "    \n",
    "#ACTUALIZACION DE PESOS Y BIAS\n",
    "    W2 = W2 - learning_rate * dW2\n",
    "    b2 = b2 - learning_rate * db2\n",
    "    W1 = W1 - learning_rate * dW1\n",
    "    b1 = b1 - learning_rate * db1\n",
    "#IMPRIMIR COSTOS CADA 100 ITERACIONES (EPOCHS)\n",
    "    if (i % 100 == 0):\n",
    "        print(\"Epoch\", i, \"cost: \", cost)\n",
    "\n",
    "print(\"Final cost:\", cost)"
   ]
  },
  {
   "cell_type": "code",
   "execution_count": 86,
   "metadata": {},
   "outputs": [
    {
     "name": "stdout",
     "output_type": "stream",
     "text": [
      "[[12663   640]\n",
      " [  819   878]]\n",
      "              precision    recall  f1-score   support\n",
      "\n",
      "       False       0.94      0.95      0.95     13303\n",
      "        True       0.58      0.52      0.55      1697\n",
      "\n",
      "    accuracy                           0.90     15000\n",
      "   macro avg       0.76      0.73      0.75     15000\n",
      "weighted avg       0.90      0.90      0.90     15000\n",
      "\n"
     ]
    }
   ],
   "source": [
    "#ULTIMA ACTUALIZACION DE LOS PESOS\n",
    "Z1 = np.matmul(W1, x_test) + b1\n",
    "A1 = sigmoid(Z1)\n",
    "Z2 = np.matmul(W2, A1) + b2\n",
    "A2 = sigmoid(Z2)\n",
    "\n",
    "predictions = (A2>.5)[0,:]\n",
    "labels = (y_test == 1)[0,:]\n",
    "#OBTENER UN REPORTE A TRAVES DE LA LIBRERIA DE SKLEARN, CLASSIFICATION REPORT\n",
    "print(confusion_matrix(predictions, labels))\n",
    "print(classification_report(predictions, labels))"
   ]
  },
  {
   "cell_type": "code",
   "execution_count": null,
   "metadata": {},
   "outputs": [],
   "source": []
  }
 ],
 "metadata": {
  "kernelspec": {
   "display_name": "Python 3",
   "language": "python",
   "name": "python3"
  },
  "language_info": {
   "codemirror_mode": {
    "name": "ipython",
    "version": 3
   },
   "file_extension": ".py",
   "mimetype": "text/x-python",
   "name": "python",
   "nbconvert_exporter": "python",
   "pygments_lexer": "ipython3",
   "version": "3.7.6"
  }
 },
 "nbformat": 4,
 "nbformat_minor": 4
}
